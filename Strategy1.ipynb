{
 "cells": [
  {
   "cell_type": "code",
   "execution_count": 1,
   "metadata": {},
   "outputs": [],
   "source": [
    "import numpy as np\n",
    "import pandas as pd\n",
    "import networkx as nx\n",
    "import operator\n",
    "from tqdm import tqdm\n",
    "import math\n",
    "\n",
    "# import graph data into a pandas dataframe\n",
    "df_dblp = pd.read_csv(r\"com-dblp.ungraph.txt\", sep='\\t')\n",
    "\n",
    "# rename columns\n",
    "df_dblp.rename(columns={'# FromNodeId': 'source', 'ToNodeId': 'target'}, inplace=True)\n",
    "\n",
    "# create networkx graph\n",
    "g_dblp = nx.from_pandas_edgelist(df_dblp, \"source\", \"target\", create_using = nx.Graph)"
   ]
  },
  {
   "cell_type": "code",
   "execution_count": 2,
   "metadata": {},
   "outputs": [],
   "source": [
    "def get_graph_statistics(g):\n",
    "    n_nodes = g.number_of_nodes()\n",
    "    n_edges = len(list(g.edges()))\n",
    "    density = nx.density(g)\n",
    "    avg_clustering = nx.average_clustering(g)\n",
    "\n",
    "    \n",
    "    stats = pd.DataFrame()\n",
    "    stats[\"name\"] = [\"n_nodes\", \"n_edges\",\"density\",\"avg_clustering\"]\n",
    "    stats[\"values\"] = [n_nodes, n_edges, density, avg_clustering]\n",
    "    \n",
    "    return stats\n",
    "    \n",
    "stats = get_graph_statistics(g_dblp)"
   ]
  },
  {
   "cell_type": "markdown",
   "metadata": {},
   "source": [
    "## Strategy 1 - Iteratively removing covered nodes"
   ]
  },
  {
   "cell_type": "code",
   "execution_count": 3,
   "metadata": {},
   "outputs": [],
   "source": [
    "def strategy1(graph, alpha = 0.00005):\n",
    "    \"\"\"\n",
    "    This function selects landmarks and computes the distances from each landmark to every reachable node in the graph.\n",
    "    \n",
    "    :param graph (nx.Graph): the networkx graph created from the edgelist\n",
    "    :param alpha (float): landmark scaling factor. This variable controls the number of landmarks selected at every iteration.\n",
    "                          The number of landmarks selected is computed as following: N = int(num_remaining_nodes * alpha)\n",
    "\n",
    "    :returns:\n",
    "      - distance_mapping (pandas.core.frame.DataFrame): a pandas DataFrame having as index column the list of all nodes in\n",
    "                                                        the graph. Each column other than the index column is denoted by a\n",
    "                                                        landmark and contains the distance from the landmark to every other node.\n",
    "                                                        If a node is not reachable by a landmark, the value in the cell will \n",
    "                                                        be NaN.\n",
    "                                \n",
    "    \"\"\"\n",
    "    \n",
    "    # get the nodelist\n",
    "    nodelist = np.array(list(graph.nodes())) # [CODE REVIEW] You don't use this variable anywhere?\n",
    "    \n",
    "    # initialize set of landmarks\n",
    "    landmark_nodes = []\n",
    "\n",
    "    # rank the nodes based on degree centrality\n",
    "    ranking = dict(sorted(nx.degree_centrality(graph).items(), key=operator.itemgetter(1),reverse=True))\n",
    "    \n",
    "    # [CODE REVIEW] \n",
    "    # Why do you convert it to a cit here and then the next line convert it \n",
    "    # to a list since you dont use the dict anywhere?\n",
    "\n",
    "    # create a list of nodes ordered by their degree centrality\n",
    "    ranking_list = list(ranking)\n",
    "    \n",
    "\n",
    "    current_n_landmarks = 0\n",
    "    \n",
    "    # this variable will contain the distances between landmarks and all other nodes\n",
    "    # if a node is not reachable, the distance will be set to NaN\n",
    "    distance_mapping = pd.DataFrame()\n",
    "    distance_mapping[\"vertices\"] = list(graph.nodes())\n",
    "    distance_mapping = distance_mapping.set_index(\"vertices\")\n",
    "    \n",
    "    while len(ranking_list) > 0:\n",
    "        # [CODE REVIEW] What is \"u_list\"? Variable name isnt very clear, or could clarify with a comment\n",
    "        u_list = ranking_list[:int(len(ranking_list)*alpha)]\n",
    "        \n",
    "        for u in tqdm(u_list):\n",
    "            # add u to the list of landmark nodes\n",
    "            landmark_nodes.append(u)\n",
    "            \n",
    "            # get the distance from \"u\" to all other nodes\n",
    "            shortest_path_lengths = nx.single_source_shortest_path_length(graph, u)\n",
    "            sp_array = np.array(list(shortest_path_lengths.items()))\n",
    "\n",
    "            # [CODE REVIEW]\n",
    "            # If runtime on larger datasets becomes an issue you can try looking at using\n",
    "            # igraph to do this. It has a faster implementation (in C) of single source shortest path\n",
    "            # https://igraph.org/python/doc/api/igraph._igraph.GraphBase.html#get_shortest_paths\n",
    "\n",
    "            \n",
    "            # get an array of reached nodes\n",
    "            reached_nodes = list(shortest_path_lengths.keys())\n",
    "            recorded_distances  = list(shortest_path_lengths.values())\n",
    "            \n",
    "            df_u = pd.DataFrame()\n",
    "            df_u[\"vertices\"] = reached_nodes\n",
    "            df_u[str(u)] = recorded_distances\n",
    "            \n",
    "            distance_mapping = distance_mapping.join(df_u.set_index(\"vertices\"))\n",
    "            \n",
    "            # compute the average distance\n",
    "            average_distance = sp_array[:, 1].mean()\n",
    "\n",
    "            # get the nodes within average distance\n",
    "            nodes_in_range = list(sp_array[np.where(sp_array[:,1] <= average_distance)[0], :][:,0])\n",
    "\n",
    "            # remove the nodes that are within average distance\n",
    "            updated_ranking_list = set(ranking_list) - set(nodes_in_range)\n",
    "            ranking_list = list(updated_ranking_list)\n",
    "                \n",
    "\n",
    "        new_n_landmarks = len(landmark_nodes)\n",
    "        \n",
    "        if new_n_landmarks == current_n_landmarks:\n",
    "            break\n",
    "        else:\n",
    "            current_n_landmarks = new_n_landmarks\n",
    "\n",
    "    return distance_mapping"
   ]
  },
  {
   "cell_type": "code",
   "execution_count": 4,
   "metadata": {
    "scrolled": false
   },
   "outputs": [
    {
     "name": "stderr",
     "output_type": "stream",
     "text": [
      "100%|██████████████████████████████████████████████████████████████████████████████████| 25/25 [00:33<00:00,  1.32s/it]\n",
      "100%|████████████████████████████████████████████████████████████████████████████████████| 2/2 [00:02<00:00,  1.23s/it]\n",
      "100%|████████████████████████████████████████████████████████████████████████████████████| 2/2 [00:02<00:00,  1.27s/it]\n",
      "100%|████████████████████████████████████████████████████████████████████████████████████| 2/2 [00:02<00:00,  1.26s/it]\n",
      "100%|████████████████████████████████████████████████████████████████████████████████████| 2/2 [00:02<00:00,  1.32s/it]\n",
      "100%|████████████████████████████████████████████████████████████████████████████████████| 2/2 [00:02<00:00,  1.27s/it]\n",
      "100%|████████████████████████████████████████████████████████████████████████████████████| 2/2 [00:02<00:00,  1.26s/it]\n",
      "100%|████████████████████████████████████████████████████████████████████████████████████| 1/1 [00:01<00:00,  1.35s/it]\n",
      "100%|████████████████████████████████████████████████████████████████████████████████████| 1/1 [00:01<00:00,  1.42s/it]\n",
      "100%|████████████████████████████████████████████████████████████████████████████████████| 1/1 [00:01<00:00,  1.27s/it]\n",
      "100%|████████████████████████████████████████████████████████████████████████████████████| 1/1 [00:01<00:00,  1.56s/it]\n",
      "100%|████████████████████████████████████████████████████████████████████████████████████| 1/1 [00:01<00:00,  1.39s/it]\n",
      "100%|████████████████████████████████████████████████████████████████████████████████████| 1/1 [00:01<00:00,  1.27s/it]\n",
      "100%|████████████████████████████████████████████████████████████████████████████████████| 1/1 [00:01<00:00,  1.27s/it]\n",
      "100%|████████████████████████████████████████████████████████████████████████████████████| 1/1 [00:01<00:00,  1.24s/it]\n",
      "100%|████████████████████████████████████████████████████████████████████████████████████| 1/1 [00:01<00:00,  1.24s/it]\n",
      "100%|████████████████████████████████████████████████████████████████████████████████████| 1/1 [00:01<00:00,  1.23s/it]\n",
      "100%|████████████████████████████████████████████████████████████████████████████████████| 1/1 [00:01<00:00,  1.24s/it]\n",
      "100%|████████████████████████████████████████████████████████████████████████████████████| 1/1 [00:01<00:00,  1.26s/it]\n",
      "100%|████████████████████████████████████████████████████████████████████████████████████| 1/1 [00:01<00:00,  1.26s/it]\n",
      "100%|████████████████████████████████████████████████████████████████████████████████████| 1/1 [00:01<00:00,  1.24s/it]\n",
      "100%|████████████████████████████████████████████████████████████████████████████████████| 1/1 [00:01<00:00,  1.22s/it]\n",
      "100%|████████████████████████████████████████████████████████████████████████████████████| 1/1 [00:01<00:00,  1.32s/it]\n",
      "100%|████████████████████████████████████████████████████████████████████████████████████| 1/1 [00:01<00:00,  1.39s/it]\n",
      "100%|████████████████████████████████████████████████████████████████████████████████████| 1/1 [00:01<00:00,  1.28s/it]\n",
      "100%|████████████████████████████████████████████████████████████████████████████████████| 1/1 [00:01<00:00,  1.43s/it]\n",
      "100%|████████████████████████████████████████████████████████████████████████████████████| 1/1 [00:01<00:00,  1.63s/it]\n",
      "100%|████████████████████████████████████████████████████████████████████████████████████| 1/1 [00:01<00:00,  1.65s/it]\n",
      "100%|████████████████████████████████████████████████████████████████████████████████████| 1/1 [00:01<00:00,  1.49s/it]\n",
      "100%|████████████████████████████████████████████████████████████████████████████████████| 1/1 [00:01<00:00,  1.54s/it]\n",
      "100%|████████████████████████████████████████████████████████████████████████████████████| 1/1 [00:01<00:00,  1.69s/it]\n",
      "100%|████████████████████████████████████████████████████████████████████████████████████| 1/1 [00:01<00:00,  1.35s/it]\n",
      "100%|████████████████████████████████████████████████████████████████████████████████████| 1/1 [00:01<00:00,  1.55s/it]\n",
      "100%|████████████████████████████████████████████████████████████████████████████████████| 1/1 [00:01<00:00,  1.73s/it]\n",
      "100%|████████████████████████████████████████████████████████████████████████████████████| 1/1 [00:01<00:00,  1.59s/it]\n",
      "100%|████████████████████████████████████████████████████████████████████████████████████| 1/1 [00:01<00:00,  1.36s/it]\n",
      "100%|████████████████████████████████████████████████████████████████████████████████████| 1/1 [00:01<00:00,  1.32s/it]\n",
      "100%|████████████████████████████████████████████████████████████████████████████████████| 1/1 [00:01<00:00,  1.27s/it]\n",
      "100%|████████████████████████████████████████████████████████████████████████████████████| 1/1 [00:01<00:00,  1.25s/it]\n",
      "100%|████████████████████████████████████████████████████████████████████████████████████| 1/1 [00:01<00:00,  1.28s/it]\n",
      "0it [00:00, ?it/s]\n"
     ]
    }
   ],
   "source": [
    "distance_mapping = strategy1(g_dblp, alpha = 0.00008)"
   ]
  },
  {
   "cell_type": "code",
   "execution_count": 51,
   "metadata": {},
   "outputs": [],
   "source": [
    "import math\n",
    "def distance(n1,n2):\n",
    "    U = (distance_mapping.loc[n1,:]+distance_mapping.loc[n2,:]).min()\n",
    "    L = (distance_mapping.loc[n1,:]-distance_mapping.loc[n2,:]).abs().max()\n",
    "    return U,L,(L+U)/2,math.sqrt(L*U)"
   ]
  },
  {
   "cell_type": "code",
   "execution_count": 19,
   "metadata": {},
   "outputs": [],
   "source": [
    "df_test = pd.read_csv(r'dblp_test.csv',sep=',')"
   ]
  },
  {
   "cell_type": "code",
   "execution_count": 62,
   "metadata": {},
   "outputs": [],
   "source": [
    "estimate = []\n",
    "for i in range(1000):\n",
    "    a = df_test.loc[i,:].tolist()\n",
    "    estimate.append(distance(a[0],a[1]))"
   ]
  },
  {
   "cell_type": "code",
   "execution_count": 66,
   "metadata": {},
   "outputs": [],
   "source": [
    "results = pd.DataFrame(estimate,index=None,columns=['U','L','MP','GM'])"
   ]
  },
  {
   "cell_type": "code",
   "execution_count": 35,
   "metadata": {},
   "outputs": [],
   "source": [
    "from sklearn.metrics import mean_squared_error"
   ]
  },
  {
   "cell_type": "code",
   "execution_count": 74,
   "metadata": {},
   "outputs": [
    {
     "name": "stdout",
     "output_type": "stream",
     "text": [
      "MSE   U : 1.559\n",
      "MSE   L : 14.833\n",
      "MSE   MP : 2.467\n",
      "MSE   GM : 4.61656641919919\n"
     ]
    }
   ],
   "source": [
    "for i in results.columns:\n",
    "    print('MSE',' ',i, ':',mean_squared_error(df_test['Distance'].tolist(),results[i].tolist()))"
   ]
  },
  {
   "cell_type": "code",
   "execution_count": null,
   "metadata": {},
   "outputs": [],
   "source": []
  }
 ],
 "metadata": {
  "kernelspec": {
   "display_name": "Python 3.9.7 64-bit",
   "language": "python",
   "name": "python3"
  },
  "language_info": {
   "codemirror_mode": {
    "name": "ipython",
    "version": 3
   },
   "file_extension": ".py",
   "mimetype": "text/x-python",
   "name": "python",
   "nbconvert_exporter": "python",
   "pygments_lexer": "ipython3",
   "version": "3.9.7"
  },
  "vscode": {
   "interpreter": {
    "hash": "5b012b27356deb70bec897482442c84c8a6966312d515db7fff44da2132667db"
   }
  }
 },
 "nbformat": 4,
 "nbformat_minor": 4
}
