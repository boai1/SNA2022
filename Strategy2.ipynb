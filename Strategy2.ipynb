{
 "cells": [
  {
   "cell_type": "markdown",
   "id": "e48638cf",
   "metadata": {},
   "source": [
    "# Precomupte"
   ]
  },
  {
   "cell_type": "code",
   "execution_count": 1,
   "id": "b5cd3ec2",
   "metadata": {},
   "outputs": [],
   "source": [
    "import numpy as np\n",
    "import pandas as pd\n",
    "import networkx as nx\n",
    "import operator\n",
    "from tqdm import tqdm\n",
    "from networkx.algorithms.community import louvain_communities, asyn_fluidc, girvan_newman\n",
    "import matplotlib.pyplot as plt\n",
    "from operator import itemgetter\n",
    "import math"
   ]
  },
  {
   "cell_type": "code",
   "execution_count": 2,
   "id": "57cfded1",
   "metadata": {
    "scrolled": true
   },
   "outputs": [],
   "source": [
    "# import graph data into a pandas dataframe\n",
    "df_dblp = pd.read_csv(r\"com-dblp.ungraph.txt\", sep='\\t')\n",
    "\n",
    "# rename columns\n",
    "df_dblp.rename(columns={'# FromNodeId': 'source', 'ToNodeId': 'target'}, inplace=True)\n",
    "\n",
    "# create networkx graph\n",
    "graph = nx.from_pandas_edgelist(df_dblp, \"source\", \"target\", create_using = nx.Graph)"
   ]
  },
  {
   "cell_type": "code",
   "execution_count": 2,
   "id": "73ee36fd",
   "metadata": {},
   "outputs": [],
   "source": [
    "#graph   = nx.karate_club_graph()"
   ]
  },
  {
   "cell_type": "code",
   "execution_count": 5,
   "id": "fa1ed198",
   "metadata": {},
   "outputs": [
    {
     "name": "stderr",
     "output_type": "stream",
     "text": [
      "100%|█████████████████████████████████████████████████████████████████████████████████| 50/50 [00:00<00:00, 299.33it/s]\n"
     ]
    }
   ],
   "source": [
    "landmark_communities  = list(asyn_fluidc(graph, k = 50, seed=123))\n",
    "\n",
    "# obtain the size of each community\n",
    "community_sizes = np.array([len(comm) for comm in landmark_communities])\n",
    "\n",
    "num_landmarks = [math.ceil(100*l/sum(community_sizes)) for l in community_sizes]\n",
    "\n",
    "# obtain the degree centrality of all nodes in the graph\n",
    "degr_centrality_ranking = dict(sorted(nx.degree_centrality(graph).items(), key=operator.itemgetter(1),reverse=True))\n",
    "\n",
    "degr_centrality_of_communities = {}\n",
    "\n",
    "distance_mapping2 = pd.DataFrame()\n",
    "distance_mapping2[\"vertices\"] = list(graph.nodes())\n",
    "distance_mapping2 = distance_mapping2.set_index(\"vertices\")\n",
    "\n",
    "all_landmarks = []\n",
    "cen_landmark = []\n",
    "    \n",
    "for i in tqdm(range(len(landmark_communities))):\n",
    "    d = {key: degr_centrality_ranking.get(key) for key in landmark_communities[i]}\n",
    "\n",
    "    num_l = num_landmarks[i]\n",
    "\n",
    "    # rank the nodes in the community based on degree centrality\n",
    "    d = dict(sorted(d.items(), key=operator.itemgetter(1),reverse=True)[:num_l])\n",
    "    \n",
    "    all_landmarks.append(list(d.keys()))\n",
    "    \n",
    "\n",
    "    degr_centrality_of_communities[i] = d \n",
    "\n",
    " \n",
    "\n",
    "\n",
    "\n"
   ]
  },
  {
   "cell_type": "code",
   "execution_count": 6,
   "id": "f8736de6",
   "metadata": {},
   "outputs": [
    {
     "name": "stderr",
     "output_type": "stream",
     "text": [
      "100%|██████████████████████████████████████████████████████████████████████████████████| 50/50 [00:00<00:00, 78.35it/s]\n"
     ]
    }
   ],
   "source": [
    "#distance between communities,indexes are target communities, headers are source communities\n",
    "df_cd = pd.DataFrame()\n",
    "l=0\n",
    "for n in tqdm(all_landmarks):\n",
    "    df_cd[str(l)]=[nx.shortest_path_length(graph, source=n[0], target=m[0]) for m in all_landmarks ]\n",
    "    l += 1  "
   ]
  },
  {
   "cell_type": "code",
   "execution_count": 7,
   "id": "5f743223",
   "metadata": {},
   "outputs": [
    {
     "name": "stderr",
     "output_type": "stream",
     "text": [
      "100%|██████████████████████████████████████████████████████████████████████████████████| 50/50 [03:20<00:00,  4.02s/it]\n"
     ]
    }
   ],
   "source": [
    "#Generate a dataframe for each community,indexes are target nodes, headers are landmarkers: df_0,df_1,df_2......df_n,n=len(landmark_communities)-1\n",
    "for i in tqdm(range(len(landmark_communities))):\n",
    "#for i in range(2):\n",
    "    exec (\"df_%s = pd.DataFrame()\"%i)\n",
    "    exec (\"df_%s['vertices']=list(landmark_communities[i])\"%i)\n",
    "    for landmark in all_landmarks[i]:\n",
    "        exec (\"df_%s[str(landmark)] = [nx.shortest_path_length(graph, source=landmark, target=m) for m in landmark_communities[i]]\"%i)\n",
    "    exec (\"df_%s = df_%s.set_index('vertices')\"%(i,i))"
   ]
  },
  {
   "cell_type": "markdown",
   "id": "7959475d",
   "metadata": {},
   "source": [
    "# Generate test dataset"
   ]
  },
  {
   "cell_type": "code",
   "execution_count": 49,
   "id": "49161b2e",
   "metadata": {},
   "outputs": [],
   "source": [
    "from random import sample\n",
    "l = list(graph.nodes())"
   ]
  },
  {
   "cell_type": "code",
   "execution_count": 39,
   "id": "8ddd18ac",
   "metadata": {},
   "outputs": [],
   "source": [
    "tmp=[]\n",
    "i=0\n",
    "while(i<1000):\n",
    "    a = sample(l, 2)\n",
    "    if nx.has_path(graph,a[0],a[1]):\n",
    "        a += [nx.shortest_path_length(graph, source=a[0], target=a[1])]\n",
    "        tmp.append(a)\n",
    "        i += 1"
   ]
  },
  {
   "cell_type": "code",
   "execution_count": 44,
   "id": "3d4b118f",
   "metadata": {},
   "outputs": [],
   "source": [
    "df = pd.DataFrame(tmp,index=None, columns=['Source','Target','Distance'])"
   ]
  },
  {
   "cell_type": "code",
   "execution_count": 48,
   "id": "f2c59cc0",
   "metadata": {},
   "outputs": [],
   "source": [
    "df.to_csv(\"dblp_test.csv\",index=None)"
   ]
  },
  {
   "cell_type": "code",
   "execution_count": null,
   "id": "8d13caaa",
   "metadata": {},
   "outputs": [],
   "source": []
  }
 ],
 "metadata": {
  "kernelspec": {
   "display_name": "Python 3 (ipykernel)",
   "language": "python",
   "name": "python3"
  },
  "language_info": {
   "codemirror_mode": {
    "name": "ipython",
    "version": 3
   },
   "file_extension": ".py",
   "mimetype": "text/x-python",
   "name": "python",
   "nbconvert_exporter": "python",
   "pygments_lexer": "ipython3",
   "version": "3.9.13"
  }
 },
 "nbformat": 4,
 "nbformat_minor": 5
}
